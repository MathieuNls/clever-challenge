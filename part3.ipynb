{
 "metadata": {
  "language_info": {
   "codemirror_mode": {
    "name": "ipython",
    "version": 3
   },
   "file_extension": ".py",
   "mimetype": "text/x-python",
   "name": "python",
   "nbconvert_exporter": "python",
   "pygments_lexer": "ipython3",
   "version": "3.8.2-final"
  },
  "orig_nbformat": 2,
  "kernelspec": {
   "name": "python_defaultSpec_1600538862526",
   "display_name": "Python 3.8.2 64-bit"
  }
 },
 "nbformat": 4,
 "nbformat_minor": 2,
 "cells": [
  {
   "cell_type": "code",
   "execution_count": 81,
   "metadata": {},
   "outputs": [],
   "source": [
    "import pandas as pd\n",
    "\n",
    "# Initial inspection shows that the timestamp column is Unix epoch time up to the Second granularity\n",
    "dateparse = lambda timestamp: pd.to_datetime(timestamp, unit='s')\n",
    "\n",
    "data = pd.read_csv(\"seq/sample.csv\", \n",
    "                    index_col=\"timestamp\",\n",
    "                    date_parser=dateparse,\n",
    "                    infer_datetime_format=True,\n",
    "                    parse_dates=['timestamp'])"
   ]
  },
  {
   "cell_type": "code",
   "execution_count": 82,
   "metadata": {},
   "outputs": [
    {
     "output_type": "execute_result",
     "data": {
      "text/plain": "                     event_id  class  f1  f2   f3  ...  f26  f27  f28  f29  f30\ntimestamp                                          ...                         \n2018-04-24 09:17:36    819703      0   1   1    1  ...    0    0    0    0    0\n2018-09-03 15:07:13    824942      0   1   1    1  ...    0    0    0    0    0\n2017-12-15 10:19:55    814722      0   1   2    3  ...    0    0    0    0    0\n2018-09-11 15:10:08    825500      1   1  45  111  ...    0    0    0    0    0\n2017-11-17 08:39:02    813877      0   1   1    2  ...    0    0    0    0    0\n2018-08-14 14:35:02    824050      1   2   3    3  ...    0    0    0    0    0\n2017-11-14 14:06:16    813755      0   1   3    3  ...    0    0    0    0    0\n2017-12-19 11:12:21    814801      1   1  37  120  ...    0    0    0    0    0\n2018-07-19 17:01:24    822905      1   1   8   22  ...    0    0    0    0    0\n2018-09-13 08:49:44    825604      1   1   5   21  ...    0    0    0    0    0\n\n[10 rows x 33 columns]",
      "text/html": "<div>\n<style scoped>\n    .dataframe tbody tr th:only-of-type {\n        vertical-align: middle;\n    }\n\n    .dataframe tbody tr th {\n        vertical-align: top;\n    }\n\n    .dataframe thead th {\n        text-align: right;\n    }\n</style>\n<table border=\"1\" class=\"dataframe\">\n  <thead>\n    <tr style=\"text-align: right;\">\n      <th></th>\n      <th>event_id</th>\n      <th>class</th>\n      <th>f1</th>\n      <th>f2</th>\n      <th>f3</th>\n      <th>f3.1</th>\n      <th>f4</th>\n      <th>f5</th>\n      <th>f6</th>\n      <th>f7</th>\n      <th>f8</th>\n      <th>f9</th>\n      <th>f10</th>\n      <th>f11</th>\n      <th>f12</th>\n      <th>f13</th>\n      <th>f14</th>\n      <th>f15</th>\n      <th>f16</th>\n      <th>f17</th>\n      <th>f18</th>\n      <th>f19</th>\n      <th>f20</th>\n      <th>f21</th>\n      <th>f22</th>\n      <th>f23</th>\n      <th>f24</th>\n      <th>f25</th>\n      <th>f26</th>\n      <th>f27</th>\n      <th>f28</th>\n      <th>f29</th>\n      <th>f30</th>\n    </tr>\n    <tr>\n      <th>timestamp</th>\n      <th></th>\n      <th></th>\n      <th></th>\n      <th></th>\n      <th></th>\n      <th></th>\n      <th></th>\n      <th></th>\n      <th></th>\n      <th></th>\n      <th></th>\n      <th></th>\n      <th></th>\n      <th></th>\n      <th></th>\n      <th></th>\n      <th></th>\n      <th></th>\n      <th></th>\n      <th></th>\n      <th></th>\n      <th></th>\n      <th></th>\n      <th></th>\n      <th></th>\n      <th></th>\n      <th></th>\n      <th></th>\n      <th></th>\n      <th></th>\n      <th></th>\n      <th></th>\n      <th></th>\n    </tr>\n  </thead>\n  <tbody>\n    <tr>\n      <th>2018-04-24 09:17:36</th>\n      <td>819703</td>\n      <td>0</td>\n      <td>1</td>\n      <td>1</td>\n      <td>1</td>\n      <td>0.000000</td>\n      <td>5</td>\n      <td>2</td>\n      <td>903.000000</td>\n      <td>3</td>\n      <td>518.791481</td>\n      <td>1</td>\n      <td>45</td>\n      <td>0</td>\n      <td>34</td>\n      <td>9604</td>\n      <td>1</td>\n      <td>81.000000</td>\n      <td>0</td>\n      <td>59.0</td>\n      <td>1.0</td>\n      <td>0</td>\n      <td>1.0</td>\n      <td>1</td>\n      <td>0</td>\n      <td>0</td>\n      <td>0</td>\n      <td>0</td>\n      <td>0</td>\n      <td>0</td>\n      <td>0</td>\n      <td>0</td>\n      <td>0</td>\n    </tr>\n    <tr>\n      <th>2018-09-03 15:07:13</th>\n      <td>824942</td>\n      <td>0</td>\n      <td>1</td>\n      <td>1</td>\n      <td>1</td>\n      <td>0.000000</td>\n      <td>2</td>\n      <td>2</td>\n      <td>1172.000000</td>\n      <td>7</td>\n      <td>651.034271</td>\n      <td>1</td>\n      <td>30</td>\n      <td>0</td>\n      <td>23</td>\n      <td>9822</td>\n      <td>0</td>\n      <td>0.000000</td>\n      <td>0</td>\n      <td>0.0</td>\n      <td>0.0</td>\n      <td>0</td>\n      <td>0.0</td>\n      <td>0</td>\n      <td>0</td>\n      <td>0</td>\n      <td>0</td>\n      <td>0</td>\n      <td>0</td>\n      <td>0</td>\n      <td>0</td>\n      <td>0</td>\n      <td>0</td>\n    </tr>\n    <tr>\n      <th>2017-12-15 10:19:55</th>\n      <td>814722</td>\n      <td>0</td>\n      <td>1</td>\n      <td>2</td>\n      <td>3</td>\n      <td>1.039721</td>\n      <td>5</td>\n      <td>3</td>\n      <td>3356.000000</td>\n      <td>27</td>\n      <td>388.834757</td>\n      <td>3</td>\n      <td>124</td>\n      <td>0</td>\n      <td>63</td>\n      <td>9349</td>\n      <td>1</td>\n      <td>26.000000</td>\n      <td>0</td>\n      <td>5.0</td>\n      <td>0.0</td>\n      <td>0</td>\n      <td>0.0</td>\n      <td>1</td>\n      <td>0</td>\n      <td>0</td>\n      <td>0</td>\n      <td>0</td>\n      <td>0</td>\n      <td>0</td>\n      <td>0</td>\n      <td>0</td>\n      <td>0</td>\n    </tr>\n    <tr>\n      <th>2018-09-11 15:10:08</th>\n      <td>825500</td>\n      <td>1</td>\n      <td>1</td>\n      <td>45</td>\n      <td>111</td>\n      <td>2.266101</td>\n      <td>1767</td>\n      <td>1908</td>\n      <td>556.396396</td>\n      <td>86</td>\n      <td>306.422382</td>\n      <td>111</td>\n      <td>5078</td>\n      <td>0</td>\n      <td>4772</td>\n      <td>9287</td>\n      <td>1</td>\n      <td>646.000000</td>\n      <td>0</td>\n      <td>638.0</td>\n      <td>0.0</td>\n      <td>0</td>\n      <td>0.0</td>\n      <td>1</td>\n      <td>0</td>\n      <td>0</td>\n      <td>0</td>\n      <td>0</td>\n      <td>0</td>\n      <td>0</td>\n      <td>0</td>\n      <td>0</td>\n      <td>0</td>\n    </tr>\n    <tr>\n      <th>2017-11-17 08:39:02</th>\n      <td>813877</td>\n      <td>0</td>\n      <td>1</td>\n      <td>1</td>\n      <td>2</td>\n      <td>0.500402</td>\n      <td>1</td>\n      <td>9</td>\n      <td>1843.000000</td>\n      <td>3</td>\n      <td>360.764699</td>\n      <td>2</td>\n      <td>898</td>\n      <td>0</td>\n      <td>892</td>\n      <td>9246</td>\n      <td>0</td>\n      <td>0.000000</td>\n      <td>0</td>\n      <td>0.0</td>\n      <td>0.0</td>\n      <td>0</td>\n      <td>0.0</td>\n      <td>0</td>\n      <td>0</td>\n      <td>0</td>\n      <td>0</td>\n      <td>0</td>\n      <td>0</td>\n      <td>0</td>\n      <td>0</td>\n      <td>0</td>\n      <td>0</td>\n    </tr>\n    <tr>\n      <th>2018-08-14 14:35:02</th>\n      <td>824050</td>\n      <td>1</td>\n      <td>2</td>\n      <td>3</td>\n      <td>3</td>\n      <td>0.780578</td>\n      <td>25</td>\n      <td>36</td>\n      <td>42.333333</td>\n      <td>11</td>\n      <td>177.627164</td>\n      <td>3</td>\n      <td>1168</td>\n      <td>0</td>\n      <td>1164</td>\n      <td>9438</td>\n      <td>2</td>\n      <td>800.500000</td>\n      <td>0</td>\n      <td>799.0</td>\n      <td>0.0</td>\n      <td>0</td>\n      <td>0.0</td>\n      <td>2</td>\n      <td>0</td>\n      <td>0</td>\n      <td>0</td>\n      <td>0</td>\n      <td>0</td>\n      <td>0</td>\n      <td>0</td>\n      <td>0</td>\n      <td>0</td>\n    </tr>\n    <tr>\n      <th>2017-11-14 14:06:16</th>\n      <td>813755</td>\n      <td>0</td>\n      <td>1</td>\n      <td>3</td>\n      <td>3</td>\n      <td>1.098612</td>\n      <td>3</td>\n      <td>3</td>\n      <td>424.000000</td>\n      <td>4</td>\n      <td>357.991944</td>\n      <td>3</td>\n      <td>340</td>\n      <td>0</td>\n      <td>245</td>\n      <td>9259</td>\n      <td>1</td>\n      <td>329.000000</td>\n      <td>0</td>\n      <td>324.0</td>\n      <td>0.0</td>\n      <td>0</td>\n      <td>0.0</td>\n      <td>1</td>\n      <td>0</td>\n      <td>0</td>\n      <td>0</td>\n      <td>0</td>\n      <td>0</td>\n      <td>0</td>\n      <td>0</td>\n      <td>0</td>\n      <td>0</td>\n    </tr>\n    <tr>\n      <th>2017-12-19 11:12:21</th>\n      <td>814801</td>\n      <td>1</td>\n      <td>1</td>\n      <td>37</td>\n      <td>120</td>\n      <td>3.594816</td>\n      <td>10428</td>\n      <td>0</td>\n      <td>0.225000</td>\n      <td>3</td>\n      <td>0.642793</td>\n      <td>1</td>\n      <td>2</td>\n      <td>0</td>\n      <td>0</td>\n      <td>9274</td>\n      <td>1</td>\n      <td>7899.000000</td>\n      <td>0</td>\n      <td>7555.0</td>\n      <td>7510.0</td>\n      <td>0</td>\n      <td>2.0</td>\n      <td>1</td>\n      <td>0</td>\n      <td>0</td>\n      <td>0</td>\n      <td>0</td>\n      <td>0</td>\n      <td>0</td>\n      <td>0</td>\n      <td>0</td>\n      <td>0</td>\n    </tr>\n    <tr>\n      <th>2018-07-19 17:01:24</th>\n      <td>822905</td>\n      <td>1</td>\n      <td>1</td>\n      <td>8</td>\n      <td>22</td>\n      <td>2.607902</td>\n      <td>111</td>\n      <td>289</td>\n      <td>477.227273</td>\n      <td>9</td>\n      <td>28.201409</td>\n      <td>22</td>\n      <td>815</td>\n      <td>0</td>\n      <td>591</td>\n      <td>9396</td>\n      <td>1</td>\n      <td>192.000000</td>\n      <td>0</td>\n      <td>183.0</td>\n      <td>0.0</td>\n      <td>0</td>\n      <td>0.0</td>\n      <td>1</td>\n      <td>0</td>\n      <td>0</td>\n      <td>0</td>\n      <td>0</td>\n      <td>0</td>\n      <td>0</td>\n      <td>0</td>\n      <td>0</td>\n      <td>0</td>\n    </tr>\n    <tr>\n      <th>2018-09-13 08:49:44</th>\n      <td>825604</td>\n      <td>1</td>\n      <td>1</td>\n      <td>5</td>\n      <td>21</td>\n      <td>1.627875</td>\n      <td>1265</td>\n      <td>911</td>\n      <td>816.619048</td>\n      <td>73</td>\n      <td>133.945413</td>\n      <td>17</td>\n      <td>174</td>\n      <td>0</td>\n      <td>164</td>\n      <td>9570</td>\n      <td>3</td>\n      <td>610.333333</td>\n      <td>0</td>\n      <td>586.0</td>\n      <td>0.0</td>\n      <td>0</td>\n      <td>0.0</td>\n      <td>3</td>\n      <td>0</td>\n      <td>0</td>\n      <td>0</td>\n      <td>0</td>\n      <td>0</td>\n      <td>0</td>\n      <td>0</td>\n      <td>0</td>\n      <td>0</td>\n    </tr>\n  </tbody>\n</table>\n</div>"
     },
     "metadata": {},
     "execution_count": 82
    }
   ],
   "source": [
    "# View a sample of 10 rows\n",
    "data.sample(10)"
   ]
  },
  {
   "cell_type": "code",
   "execution_count": 83,
   "metadata": {},
   "outputs": [
    {
     "output_type": "execute_result",
     "data": {
      "text/plain": "            event_id         class            f1  ...      f28      f29      f30\ncount   18417.000000  18417.000000  18417.000000  ...  18417.0  18417.0  18417.0\nmean   820275.000000      0.451539      1.083618  ...      0.0      0.0      0.0\nstd      5316.674289      0.497660      0.408374  ...      0.0      0.0      0.0\nmin    811067.000000      0.000000      0.000000  ...      0.0      0.0      0.0\n25%    815671.000000      0.000000      1.000000  ...      0.0      0.0      0.0\n50%    820275.000000      0.000000      1.000000  ...      0.0      0.0      0.0\n75%    824879.000000      1.000000      1.000000  ...      0.0      0.0      0.0\nmax    829483.000000      1.000000      9.000000  ...      0.0      0.0      0.0\n\n[8 rows x 33 columns]",
      "text/html": "<div>\n<style scoped>\n    .dataframe tbody tr th:only-of-type {\n        vertical-align: middle;\n    }\n\n    .dataframe tbody tr th {\n        vertical-align: top;\n    }\n\n    .dataframe thead th {\n        text-align: right;\n    }\n</style>\n<table border=\"1\" class=\"dataframe\">\n  <thead>\n    <tr style=\"text-align: right;\">\n      <th></th>\n      <th>event_id</th>\n      <th>class</th>\n      <th>f1</th>\n      <th>f2</th>\n      <th>f3</th>\n      <th>f3.1</th>\n      <th>f4</th>\n      <th>f5</th>\n      <th>f6</th>\n      <th>f7</th>\n      <th>f8</th>\n      <th>f9</th>\n      <th>f10</th>\n      <th>f11</th>\n      <th>f12</th>\n      <th>f13</th>\n      <th>f14</th>\n      <th>f15</th>\n      <th>f16</th>\n      <th>f17</th>\n      <th>f18</th>\n      <th>f19</th>\n      <th>f20</th>\n      <th>f21</th>\n      <th>f22</th>\n      <th>f23</th>\n      <th>f24</th>\n      <th>f25</th>\n      <th>f26</th>\n      <th>f27</th>\n      <th>f28</th>\n      <th>f29</th>\n      <th>f30</th>\n    </tr>\n  </thead>\n  <tbody>\n    <tr>\n      <th>count</th>\n      <td>18417.000000</td>\n      <td>18417.000000</td>\n      <td>18417.000000</td>\n      <td>18417.000000</td>\n      <td>18417.000000</td>\n      <td>18417.000000</td>\n      <td>1.841700e+04</td>\n      <td>1.841700e+04</td>\n      <td>18417.000000</td>\n      <td>18417.000000</td>\n      <td>18417.000000</td>\n      <td>18417.000000</td>\n      <td>18417.000000</td>\n      <td>18417.0</td>\n      <td>18417.000000</td>\n      <td>18417.000000</td>\n      <td>18417.000000</td>\n      <td>18417.000000</td>\n      <td>18417.0</td>\n      <td>18417.000000</td>\n      <td>18417.000000</td>\n      <td>18417.0</td>\n      <td>18417.000000</td>\n      <td>18417.000000</td>\n      <td>18417.0</td>\n      <td>18417.0</td>\n      <td>18417.0</td>\n      <td>18417.0</td>\n      <td>18417.0</td>\n      <td>18417.0</td>\n      <td>18417.0</td>\n      <td>18417.0</td>\n      <td>18417.0</td>\n    </tr>\n    <tr>\n      <th>mean</th>\n      <td>820275.000000</td>\n      <td>0.451539</td>\n      <td>1.083618</td>\n      <td>7.641527</td>\n      <td>46.805343</td>\n      <td>0.948172</td>\n      <td>5.282271e+03</td>\n      <td>1.876271e+03</td>\n      <td>662.242501</td>\n      <td>11.078732</td>\n      <td>230.087888</td>\n      <td>23.974589</td>\n      <td>6143.728675</td>\n      <td>0.0</td>\n      <td>3341.689743</td>\n      <td>8940.345387</td>\n      <td>0.953901</td>\n      <td>1417.993660</td>\n      <td>0.0</td>\n      <td>1023.482719</td>\n      <td>159.500034</td>\n      <td>0.0</td>\n      <td>51.891048</td>\n      <td>0.953901</td>\n      <td>0.0</td>\n      <td>0.0</td>\n      <td>0.0</td>\n      <td>0.0</td>\n      <td>0.0</td>\n      <td>0.0</td>\n      <td>0.0</td>\n      <td>0.0</td>\n      <td>0.0</td>\n    </tr>\n    <tr>\n      <th>std</th>\n      <td>5316.674289</td>\n      <td>0.497660</td>\n      <td>0.408374</td>\n      <td>134.453030</td>\n      <td>1375.277466</td>\n      <td>1.077906</td>\n      <td>3.433018e+05</td>\n      <td>4.628975e+04</td>\n      <td>1103.655690</td>\n      <td>13.299995</td>\n      <td>192.331715</td>\n      <td>295.660614</td>\n      <td>21027.359733</td>\n      <td>0.0</td>\n      <td>11756.653978</td>\n      <td>1888.918706</td>\n      <td>0.765509</td>\n      <td>3499.505021</td>\n      <td>0.0</td>\n      <td>2666.322131</td>\n      <td>1175.169459</td>\n      <td>0.0</td>\n      <td>489.727322</td>\n      <td>0.765509</td>\n      <td>0.0</td>\n      <td>0.0</td>\n      <td>0.0</td>\n      <td>0.0</td>\n      <td>0.0</td>\n      <td>0.0</td>\n      <td>0.0</td>\n      <td>0.0</td>\n      <td>0.0</td>\n    </tr>\n    <tr>\n      <th>min</th>\n      <td>811067.000000</td>\n      <td>0.000000</td>\n      <td>0.000000</td>\n      <td>0.000000</td>\n      <td>0.000000</td>\n      <td>0.000000</td>\n      <td>0.000000e+00</td>\n      <td>0.000000e+00</td>\n      <td>-142.000000</td>\n      <td>0.000000</td>\n      <td>0.000000</td>\n      <td>0.000000</td>\n      <td>0.000000</td>\n      <td>0.0</td>\n      <td>0.000000</td>\n      <td>16.000000</td>\n      <td>0.000000</td>\n      <td>0.000000</td>\n      <td>0.0</td>\n      <td>0.000000</td>\n      <td>0.000000</td>\n      <td>0.0</td>\n      <td>0.000000</td>\n      <td>0.000000</td>\n      <td>0.0</td>\n      <td>0.0</td>\n      <td>0.0</td>\n      <td>0.0</td>\n      <td>0.0</td>\n      <td>0.0</td>\n      <td>0.0</td>\n      <td>0.0</td>\n      <td>0.0</td>\n    </tr>\n    <tr>\n      <th>25%</th>\n      <td>815671.000000</td>\n      <td>0.000000</td>\n      <td>1.000000</td>\n      <td>1.000000</td>\n      <td>1.000000</td>\n      <td>0.000000</td>\n      <td>4.000000e+00</td>\n      <td>1.000000e+00</td>\n      <td>88.000000</td>\n      <td>3.000000</td>\n      <td>68.332280</td>\n      <td>1.000000</td>\n      <td>218.000000</td>\n      <td>0.0</td>\n      <td>141.000000</td>\n      <td>9272.000000</td>\n      <td>1.000000</td>\n      <td>0.000000</td>\n      <td>0.0</td>\n      <td>0.000000</td>\n      <td>0.000000</td>\n      <td>0.0</td>\n      <td>0.000000</td>\n      <td>1.000000</td>\n      <td>0.0</td>\n      <td>0.0</td>\n      <td>0.0</td>\n      <td>0.0</td>\n      <td>0.0</td>\n      <td>0.0</td>\n      <td>0.0</td>\n      <td>0.0</td>\n      <td>0.0</td>\n    </tr>\n    <tr>\n      <th>50%</th>\n      <td>820275.000000</td>\n      <td>0.000000</td>\n      <td>1.000000</td>\n      <td>2.000000</td>\n      <td>3.000000</td>\n      <td>0.691761</td>\n      <td>2.200000e+01</td>\n      <td>8.000000e+00</td>\n      <td>286.680000</td>\n      <td>7.000000</td>\n      <td>180.443727</td>\n      <td>2.000000</td>\n      <td>741.000000</td>\n      <td>0.0</td>\n      <td>521.000000</td>\n      <td>9343.000000</td>\n      <td>1.000000</td>\n      <td>232.000000</td>\n      <td>0.0</td>\n      <td>174.000000</td>\n      <td>0.000000</td>\n      <td>0.0</td>\n      <td>0.000000</td>\n      <td>1.000000</td>\n      <td>0.0</td>\n      <td>0.0</td>\n      <td>0.0</td>\n      <td>0.0</td>\n      <td>0.0</td>\n      <td>0.0</td>\n      <td>0.0</td>\n      <td>0.0</td>\n      <td>0.0</td>\n    </tr>\n    <tr>\n      <th>75%</th>\n      <td>824879.000000</td>\n      <td>1.000000</td>\n      <td>1.000000</td>\n      <td>3.000000</td>\n      <td>8.000000</td>\n      <td>1.507725</td>\n      <td>1.200000e+02</td>\n      <td>4.800000e+01</td>\n      <td>771.500000</td>\n      <td>14.000000</td>\n      <td>358.026991</td>\n      <td>7.000000</td>\n      <td>2715.000000</td>\n      <td>0.0</td>\n      <td>1573.000000</td>\n      <td>9426.000000</td>\n      <td>1.000000</td>\n      <td>1011.000000</td>\n      <td>0.0</td>\n      <td>777.000000</td>\n      <td>0.000000</td>\n      <td>0.0</td>\n      <td>0.000000</td>\n      <td>1.000000</td>\n      <td>0.0</td>\n      <td>0.0</td>\n      <td>0.0</td>\n      <td>0.0</td>\n      <td>0.0</td>\n      <td>0.0</td>\n      <td>0.0</td>\n      <td>0.0</td>\n      <td>0.0</td>\n    </tr>\n    <tr>\n      <th>max</th>\n      <td>829483.000000</td>\n      <td>1.000000</td>\n      <td>9.000000</td>\n      <td>16257.000000</td>\n      <td>172188.000000</td>\n      <td>10.287316</td>\n      <td>4.534482e+07</td>\n      <td>3.758535e+06</td>\n      <td>26059.000000</td>\n      <td>163.000000</td>\n      <td>714.998044</td>\n      <td>16095.000000</td>\n      <td>207897.000000</td>\n      <td>0.0</td>\n      <td>205927.000000</td>\n      <td>9982.000000</td>\n      <td>12.000000</td>\n      <td>40045.000000</td>\n      <td>0.0</td>\n      <td>37189.000000</td>\n      <td>11669.000000</td>\n      <td>0.0</td>\n      <td>11516.000000</td>\n      <td>12.000000</td>\n      <td>0.0</td>\n      <td>0.0</td>\n      <td>0.0</td>\n      <td>0.0</td>\n      <td>0.0</td>\n      <td>0.0</td>\n      <td>0.0</td>\n      <td>0.0</td>\n      <td>0.0</td>\n    </tr>\n  </tbody>\n</table>\n</div>"
     },
     "metadata": {},
     "execution_count": 83
    }
   ],
   "source": [
    "# Inspect distribution of data\n",
    "data.describe()"
   ]
  },
  {
   "cell_type": "code",
   "execution_count": 86,
   "metadata": {
    "tags": []
   },
   "outputs": [],
   "source": [
    "# Looks like the below features only have constant 0 for all rows f11, f16, f19, f22 - f30\n",
    "const_col = [\"f11\", \"f16\", \"f19\"] + [\"f{}\".format(num) for num in range(22,31)]\n",
    "\n",
    "# dropping these cols\n",
    "data.drop(columns=const_col, inplace=True, errors='ignore')"
   ]
  },
  {
   "cell_type": "code",
   "execution_count": 87,
   "metadata": {},
   "outputs": [
    {
     "output_type": "execute_result",
     "data": {
      "text/plain": "        event_id    res_id\n577827    817427  15328352\n837332    826451  15543884\n660279    819373  15676460\n517905    815574  15622573\n673396    820269  15683279\n360906    813061  15500144\n491371    815050  15611669\n685823    820499  15558365\n457159    814773  15548465\n422211    814258  15353043",
      "text/html": "<div>\n<style scoped>\n    .dataframe tbody tr th:only-of-type {\n        vertical-align: middle;\n    }\n\n    .dataframe tbody tr th {\n        vertical-align: top;\n    }\n\n    .dataframe thead th {\n        text-align: right;\n    }\n</style>\n<table border=\"1\" class=\"dataframe\">\n  <thead>\n    <tr style=\"text-align: right;\">\n      <th></th>\n      <th>event_id</th>\n      <th>res_id</th>\n    </tr>\n  </thead>\n  <tbody>\n    <tr>\n      <th>577827</th>\n      <td>817427</td>\n      <td>15328352</td>\n    </tr>\n    <tr>\n      <th>837332</th>\n      <td>826451</td>\n      <td>15543884</td>\n    </tr>\n    <tr>\n      <th>660279</th>\n      <td>819373</td>\n      <td>15676460</td>\n    </tr>\n    <tr>\n      <th>517905</th>\n      <td>815574</td>\n      <td>15622573</td>\n    </tr>\n    <tr>\n      <th>673396</th>\n      <td>820269</td>\n      <td>15683279</td>\n    </tr>\n    <tr>\n      <th>360906</th>\n      <td>813061</td>\n      <td>15500144</td>\n    </tr>\n    <tr>\n      <th>491371</th>\n      <td>815050</td>\n      <td>15611669</td>\n    </tr>\n    <tr>\n      <th>685823</th>\n      <td>820499</td>\n      <td>15558365</td>\n    </tr>\n    <tr>\n      <th>457159</th>\n      <td>814773</td>\n      <td>15548465</td>\n    </tr>\n    <tr>\n      <th>422211</th>\n      <td>814258</td>\n      <td>15353043</td>\n    </tr>\n  </tbody>\n</table>\n</div>"
     },
     "metadata": {},
     "execution_count": 87
    }
   ],
   "source": [
    "# Read resource dataset\n",
    "\n",
    "res = pd.read_csv(\"seq/res.csv\")\n",
    "res.sample(10)"
   ]
  },
  {
   "cell_type": "code",
   "execution_count": 88,
   "metadata": {},
   "outputs": [
    {
     "output_type": "execute_result",
     "data": {
      "text/plain": "       event_id                                             res_id\n0        811067  [15325277, 15440054, 15440055, 15440056, 15440...\n1        811068                                         [15495262]\n2        811069  [15501813, 15501809, 15501812, 15501810, 15501...\n3        811070  [15505228, 15505227, 15505225, 15505229, 15505...\n4        811071  [15449230, 15449260, 15449270, 15449271, 15449...\n...         ...                                                ...\n18303    829479  [15475824, 15475827, 15475828, 15475830, 15475...\n18304    829480                               [15658697, 15658696]\n18305    829481  [15666344, 15632590, 15548015, 15666343, 15632...\n18306    829482                     [15658538, 15695471, 15658424]\n18307    829483                               [15696180, 15696181]\n\n[18308 rows x 2 columns]",
      "text/html": "<div>\n<style scoped>\n    .dataframe tbody tr th:only-of-type {\n        vertical-align: middle;\n    }\n\n    .dataframe tbody tr th {\n        vertical-align: top;\n    }\n\n    .dataframe thead th {\n        text-align: right;\n    }\n</style>\n<table border=\"1\" class=\"dataframe\">\n  <thead>\n    <tr style=\"text-align: right;\">\n      <th></th>\n      <th>event_id</th>\n      <th>res_id</th>\n    </tr>\n  </thead>\n  <tbody>\n    <tr>\n      <th>0</th>\n      <td>811067</td>\n      <td>[15325277, 15440054, 15440055, 15440056, 15440...</td>\n    </tr>\n    <tr>\n      <th>1</th>\n      <td>811068</td>\n      <td>[15495262]</td>\n    </tr>\n    <tr>\n      <th>2</th>\n      <td>811069</td>\n      <td>[15501813, 15501809, 15501812, 15501810, 15501...</td>\n    </tr>\n    <tr>\n      <th>3</th>\n      <td>811070</td>\n      <td>[15505228, 15505227, 15505225, 15505229, 15505...</td>\n    </tr>\n    <tr>\n      <th>4</th>\n      <td>811071</td>\n      <td>[15449230, 15449260, 15449270, 15449271, 15449...</td>\n    </tr>\n    <tr>\n      <th>...</th>\n      <td>...</td>\n      <td>...</td>\n    </tr>\n    <tr>\n      <th>18303</th>\n      <td>829479</td>\n      <td>[15475824, 15475827, 15475828, 15475830, 15475...</td>\n    </tr>\n    <tr>\n      <th>18304</th>\n      <td>829480</td>\n      <td>[15658697, 15658696]</td>\n    </tr>\n    <tr>\n      <th>18305</th>\n      <td>829481</td>\n      <td>[15666344, 15632590, 15548015, 15666343, 15632...</td>\n    </tr>\n    <tr>\n      <th>18306</th>\n      <td>829482</td>\n      <td>[15658538, 15695471, 15658424]</td>\n    </tr>\n    <tr>\n      <th>18307</th>\n      <td>829483</td>\n      <td>[15696180, 15696181]</td>\n    </tr>\n  </tbody>\n</table>\n<p>18308 rows × 2 columns</p>\n</div>"
     },
     "metadata": {},
     "execution_count": 88
    }
   ],
   "source": [
    "import numpy as np\n",
    "\n",
    "def group_res_by_event(df):\n",
    "    keys, values = df.sort_values('event_id').values.T\n",
    "    ukeys, index = np.unique(keys, True)\n",
    "    arrays = np.split(values, index[1:])\n",
    "    df2 = pd.DataFrame({'event_id':ukeys, 'res_id':[list(a) for a in arrays]})\n",
    "    return df2\n",
    "\n",
    "res_grp = group_res_by_event(res)\n",
    "res_grp"
   ]
  },
  {
   "cell_type": "code",
   "execution_count": 89,
   "metadata": {},
   "outputs": [
    {
     "output_type": "execute_result",
     "data": {
      "text/plain": "                     event_id  ...                                             res_id\ntimestamp                      ...                                                   \n2016-11-21 14:17:52    811067  ...  [15325277, 15440054, 15440055, 15440056, 15440...\n2016-12-01 16:23:01    811068  ...                                         [15495262]\n2016-12-02 09:14:02    811069  ...  [15501813, 15501809, 15501812, 15501810, 15501...\n2016-12-02 10:18:05    811070  ...  [15505228, 15505227, 15505225, 15505229, 15505...\n2016-12-02 10:18:39    811071  ...  [15449230, 15449260, 15449270, 15449271, 15449...\n2016-12-02 15:35:26    811072  ...                     [15449271, 15449314, 15449270]\n2016-12-02 16:58:26    811073  ...                                         [15449318]\n2016-12-08 17:07:09    811074  ...                               [15449318, 15449317]\n2016-12-09 13:43:08    811075  ...  [15449270, 15449271, 15449272, 15449273, 15449...\n2016-12-12 13:30:33    811076  ...  [15507538, 15507547, 15507546, 15507545, 15507...\n\n[10 rows x 22 columns]",
      "text/html": "<div>\n<style scoped>\n    .dataframe tbody tr th:only-of-type {\n        vertical-align: middle;\n    }\n\n    .dataframe tbody tr th {\n        vertical-align: top;\n    }\n\n    .dataframe thead th {\n        text-align: right;\n    }\n</style>\n<table border=\"1\" class=\"dataframe\">\n  <thead>\n    <tr style=\"text-align: right;\">\n      <th></th>\n      <th>event_id</th>\n      <th>class</th>\n      <th>f1</th>\n      <th>f2</th>\n      <th>f3</th>\n      <th>f3.1</th>\n      <th>f4</th>\n      <th>f5</th>\n      <th>f6</th>\n      <th>f7</th>\n      <th>f8</th>\n      <th>f9</th>\n      <th>f10</th>\n      <th>f12</th>\n      <th>f13</th>\n      <th>f14</th>\n      <th>f15</th>\n      <th>f17</th>\n      <th>f18</th>\n      <th>f20</th>\n      <th>f21</th>\n      <th>res_id</th>\n    </tr>\n    <tr>\n      <th>timestamp</th>\n      <th></th>\n      <th></th>\n      <th></th>\n      <th></th>\n      <th></th>\n      <th></th>\n      <th></th>\n      <th></th>\n      <th></th>\n      <th></th>\n      <th></th>\n      <th></th>\n      <th></th>\n      <th></th>\n      <th></th>\n      <th></th>\n      <th></th>\n      <th></th>\n      <th></th>\n      <th></th>\n      <th></th>\n      <th></th>\n    </tr>\n  </thead>\n  <tbody>\n    <tr>\n      <th>2016-11-21 14:17:52</th>\n      <td>811067</td>\n      <td>1</td>\n      <td>9</td>\n      <td>16257</td>\n      <td>172188</td>\n      <td>10.287316</td>\n      <td>45344815</td>\n      <td>0</td>\n      <td>0.000000</td>\n      <td>1</td>\n      <td>0.000000</td>\n      <td>0</td>\n      <td>0</td>\n      <td>0</td>\n      <td>9230</td>\n      <td>0</td>\n      <td>0.0</td>\n      <td>0.0</td>\n      <td>0.0</td>\n      <td>0.0</td>\n      <td>0</td>\n      <td>[15325277, 15440054, 15440055, 15440056, 15440...</td>\n    </tr>\n    <tr>\n      <th>2016-12-01 16:23:01</th>\n      <td>811068</td>\n      <td>0</td>\n      <td>1</td>\n      <td>1</td>\n      <td>1</td>\n      <td>0.000000</td>\n      <td>2</td>\n      <td>1</td>\n      <td>3.000000</td>\n      <td>2</td>\n      <td>10.086910</td>\n      <td>1</td>\n      <td>0</td>\n      <td>0</td>\n      <td>9231</td>\n      <td>0</td>\n      <td>0.0</td>\n      <td>0.0</td>\n      <td>0.0</td>\n      <td>0.0</td>\n      <td>0</td>\n      <td>[15495262]</td>\n    </tr>\n    <tr>\n      <th>2016-12-02 09:14:02</th>\n      <td>811069</td>\n      <td>1</td>\n      <td>7</td>\n      <td>1731</td>\n      <td>10212</td>\n      <td>7.460379</td>\n      <td>2000330</td>\n      <td>84524</td>\n      <td>157.627693</td>\n      <td>1</td>\n      <td>2.579979</td>\n      <td>2442</td>\n      <td>172188</td>\n      <td>172076</td>\n      <td>9230</td>\n      <td>0</td>\n      <td>0.0</td>\n      <td>0.0</td>\n      <td>0.0</td>\n      <td>0.0</td>\n      <td>0</td>\n      <td>[15501813, 15501809, 15501812, 15501810, 15501...</td>\n    </tr>\n    <tr>\n      <th>2016-12-02 10:18:05</th>\n      <td>811070</td>\n      <td>0</td>\n      <td>1</td>\n      <td>4</td>\n      <td>12</td>\n      <td>1.665603</td>\n      <td>353</td>\n      <td>0</td>\n      <td>0.000000</td>\n      <td>1</td>\n      <td>0.000000</td>\n      <td>0</td>\n      <td>0</td>\n      <td>0</td>\n      <td>9232</td>\n      <td>0</td>\n      <td>0.0</td>\n      <td>0.0</td>\n      <td>0.0</td>\n      <td>0.0</td>\n      <td>0</td>\n      <td>[15505228, 15505227, 15505225, 15505229, 15505...</td>\n    </tr>\n    <tr>\n      <th>2016-12-02 10:18:39</th>\n      <td>811071</td>\n      <td>0</td>\n      <td>2</td>\n      <td>4</td>\n      <td>22</td>\n      <td>0.919741</td>\n      <td>6263</td>\n      <td>4346</td>\n      <td>684.409091</td>\n      <td>2</td>\n      <td>10.341428</td>\n      <td>21</td>\n      <td>12</td>\n      <td>0</td>\n      <td>9232</td>\n      <td>0</td>\n      <td>0.0</td>\n      <td>0.0</td>\n      <td>0.0</td>\n      <td>0.0</td>\n      <td>0</td>\n      <td>[15449230, 15449260, 15449270, 15449271, 15449...</td>\n    </tr>\n    <tr>\n      <th>2016-12-02 15:35:26</th>\n      <td>811072</td>\n      <td>0</td>\n      <td>1</td>\n      <td>1</td>\n      <td>3</td>\n      <td>0.793341</td>\n      <td>31</td>\n      <td>33</td>\n      <td>1277.000000</td>\n      <td>2</td>\n      <td>11.053866</td>\n      <td>3</td>\n      <td>34</td>\n      <td>17</td>\n      <td>9232</td>\n      <td>0</td>\n      <td>0.0</td>\n      <td>0.0</td>\n      <td>0.0</td>\n      <td>0.0</td>\n      <td>0</td>\n      <td>[15449271, 15449314, 15449270]</td>\n    </tr>\n    <tr>\n      <th>2016-12-02 16:58:26</th>\n      <td>811073</td>\n      <td>0</td>\n      <td>1</td>\n      <td>1</td>\n      <td>1</td>\n      <td>0.000000</td>\n      <td>20</td>\n      <td>10</td>\n      <td>1103.000000</td>\n      <td>2</td>\n      <td>11.111505</td>\n      <td>1</td>\n      <td>37</td>\n      <td>20</td>\n      <td>9232</td>\n      <td>0</td>\n      <td>0.0</td>\n      <td>0.0</td>\n      <td>0.0</td>\n      <td>0.0</td>\n      <td>0</td>\n      <td>[15449318]</td>\n    </tr>\n    <tr>\n      <th>2016-12-08 17:07:09</th>\n      <td>811074</td>\n      <td>0</td>\n      <td>1</td>\n      <td>1</td>\n      <td>2</td>\n      <td>0.070304</td>\n      <td>119</td>\n      <td>108</td>\n      <td>952.500000</td>\n      <td>2</td>\n      <td>17.117558</td>\n      <td>2</td>\n      <td>38</td>\n      <td>21</td>\n      <td>9232</td>\n      <td>0</td>\n      <td>0.0</td>\n      <td>0.0</td>\n      <td>0.0</td>\n      <td>0.0</td>\n      <td>0</td>\n      <td>[15449318, 15449317]</td>\n    </tr>\n    <tr>\n      <th>2016-12-09 13:43:08</th>\n      <td>811075</td>\n      <td>0</td>\n      <td>1</td>\n      <td>3</td>\n      <td>9</td>\n      <td>1.330891</td>\n      <td>260</td>\n      <td>185</td>\n      <td>670.111111</td>\n      <td>2</td>\n      <td>17.975880</td>\n      <td>9</td>\n      <td>40</td>\n      <td>23</td>\n      <td>9232</td>\n      <td>0</td>\n      <td>0.0</td>\n      <td>0.0</td>\n      <td>0.0</td>\n      <td>0.0</td>\n      <td>0</td>\n      <td>[15449270, 15449271, 15449272, 15449273, 15449...</td>\n    </tr>\n    <tr>\n      <th>2016-12-12 13:30:33</th>\n      <td>811076</td>\n      <td>1</td>\n      <td>6</td>\n      <td>788</td>\n      <td>6801</td>\n      <td>7.347146</td>\n      <td>491555</td>\n      <td>44374</td>\n      <td>195.737686</td>\n      <td>1</td>\n      <td>6.827746</td>\n      <td>2226</td>\n      <td>182400</td>\n      <td>182282</td>\n      <td>9230</td>\n      <td>0</td>\n      <td>0.0</td>\n      <td>0.0</td>\n      <td>0.0</td>\n      <td>0.0</td>\n      <td>0</td>\n      <td>[15507538, 15507547, 15507546, 15507545, 15507...</td>\n    </tr>\n  </tbody>\n</table>\n</div>"
     },
     "metadata": {},
     "execution_count": 89
    }
   ],
   "source": [
    "# Merging 2 dataset\n",
    "data_w_res = data.reset_index().merge(res_grp, on=\"event_id\", how=\"left\").set_index(\"timestamp\")\n",
    "\n",
    "# Fill event with no resource an empty resource list\n",
    "data_w_res['res_id'] = data_w_res['res_id'].apply(lambda d: d if isinstance(d, list) else [])\n",
    "\n",
    "data_w_res.head(10)"
   ]
  },
  {
   "cell_type": "code",
   "execution_count": 90,
   "metadata": {},
   "outputs": [
    {
     "output_type": "execute_result",
     "data": {
      "text/plain": "DatetimeIndex(['2016-11-21 14:17:52', '2016-12-01 16:23:01',\n               '2016-12-02 09:14:02', '2016-12-02 10:18:05',\n               '2016-12-02 10:18:39', '2016-12-02 15:35:26',\n               '2016-12-02 16:58:26', '2016-12-08 17:07:09',\n               '2016-12-09 13:43:08', '2016-12-12 13:30:33',\n               ...\n               '2018-11-06 13:53:39', '2018-11-06 14:06:58',\n               '2018-11-06 14:09:39', '2018-11-06 14:12:27',\n               '2018-11-06 14:12:42', '2018-11-06 14:15:03',\n               '2018-11-06 14:16:49', '2018-11-06 14:17:33',\n               '2018-11-06 14:35:56', '2018-11-06 14:36:37'],\n              dtype='datetime64[ns]', name='timestamp', length=18417, freq=None)"
     },
     "metadata": {},
     "execution_count": 90
    }
   ],
   "source": [
    "y = data_w_res[[\"class\"]]\n",
    "\n",
    "# Verify that the index column is of datetime type\n",
    "data_w_res.index"
   ]
  },
  {
   "source": [
    "# Example of all events in the year 2018\n",
    "data_w_res.loc['2018']"
   ],
   "cell_type": "code",
   "metadata": {},
   "execution_count": 95,
   "outputs": [
    {
     "output_type": "execute_result",
     "data": {
      "text/plain": "                     event_id  ...                                             res_id\ntimestamp                      ...                                                   \n2018-01-02 10:14:44    814967  ...                                         [15486546]\n2018-01-02 10:24:31    814968  ...                                         [15562362]\n2018-01-02 10:52:10    814969  ...                                         [15474689]\n2018-01-02 11:01:08    814970  ...                                         [15586003]\n2018-01-02 11:01:44    814971  ...  [15586006, 15586008, 15586007, 15435405, 15435...\n...                       ...  ...                                                ...\n2018-11-06 14:15:03    829479  ...  [15475824, 15475827, 15475828, 15475830, 15475...\n2018-11-06 14:16:49    829480  ...                               [15658697, 15658696]\n2018-11-06 14:17:33    829481  ...  [15666344, 15632590, 15548015, 15666343, 15632...\n2018-11-06 14:35:56    829482  ...                     [15658538, 15695471, 15658424]\n2018-11-06 14:36:37    829483  ...                               [15696180, 15696181]\n\n[14517 rows x 22 columns]",
      "text/html": "<div>\n<style scoped>\n    .dataframe tbody tr th:only-of-type {\n        vertical-align: middle;\n    }\n\n    .dataframe tbody tr th {\n        vertical-align: top;\n    }\n\n    .dataframe thead th {\n        text-align: right;\n    }\n</style>\n<table border=\"1\" class=\"dataframe\">\n  <thead>\n    <tr style=\"text-align: right;\">\n      <th></th>\n      <th>event_id</th>\n      <th>class</th>\n      <th>f1</th>\n      <th>f2</th>\n      <th>f3</th>\n      <th>f3.1</th>\n      <th>f4</th>\n      <th>f5</th>\n      <th>f6</th>\n      <th>f7</th>\n      <th>f8</th>\n      <th>f9</th>\n      <th>f10</th>\n      <th>f12</th>\n      <th>f13</th>\n      <th>f14</th>\n      <th>f15</th>\n      <th>f17</th>\n      <th>f18</th>\n      <th>f20</th>\n      <th>f21</th>\n      <th>res_id</th>\n    </tr>\n    <tr>\n      <th>timestamp</th>\n      <th></th>\n      <th></th>\n      <th></th>\n      <th></th>\n      <th></th>\n      <th></th>\n      <th></th>\n      <th></th>\n      <th></th>\n      <th></th>\n      <th></th>\n      <th></th>\n      <th></th>\n      <th></th>\n      <th></th>\n      <th></th>\n      <th></th>\n      <th></th>\n      <th></th>\n      <th></th>\n      <th></th>\n      <th></th>\n    </tr>\n  </thead>\n  <tbody>\n    <tr>\n      <th>2018-01-02 10:14:44</th>\n      <td>814967</td>\n      <td>0</td>\n      <td>1</td>\n      <td>1</td>\n      <td>1</td>\n      <td>0.000000</td>\n      <td>19</td>\n      <td>0</td>\n      <td>627.000000</td>\n      <td>6</td>\n      <td>406.831157</td>\n      <td>1</td>\n      <td>5</td>\n      <td>4</td>\n      <td>9352</td>\n      <td>0</td>\n      <td>0.0</td>\n      <td>0.0</td>\n      <td>0.0</td>\n      <td>0.0</td>\n      <td>0</td>\n      <td>[15486546]</td>\n    </tr>\n    <tr>\n      <th>2018-01-02 10:24:31</th>\n      <td>814968</td>\n      <td>0</td>\n      <td>1</td>\n      <td>1</td>\n      <td>1</td>\n      <td>0.000000</td>\n      <td>7</td>\n      <td>9</td>\n      <td>577.000000</td>\n      <td>2</td>\n      <td>105.876690</td>\n      <td>1</td>\n      <td>502</td>\n      <td>499</td>\n      <td>9343</td>\n      <td>1</td>\n      <td>277.0</td>\n      <td>277.0</td>\n      <td>0.0</td>\n      <td>0.0</td>\n      <td>1</td>\n      <td>[15562362]</td>\n    </tr>\n    <tr>\n      <th>2018-01-02 10:52:10</th>\n      <td>814969</td>\n      <td>0</td>\n      <td>1</td>\n      <td>1</td>\n      <td>1</td>\n      <td>0.000000</td>\n      <td>1</td>\n      <td>1</td>\n      <td>97.000000</td>\n      <td>2</td>\n      <td>406.857153</td>\n      <td>1</td>\n      <td>1008</td>\n      <td>52</td>\n      <td>9244</td>\n      <td>0</td>\n      <td>0.0</td>\n      <td>0.0</td>\n      <td>0.0</td>\n      <td>0.0</td>\n      <td>0</td>\n      <td>[15474689]</td>\n    </tr>\n    <tr>\n      <th>2018-01-02 11:01:08</th>\n      <td>814970</td>\n      <td>0</td>\n      <td>1</td>\n      <td>1</td>\n      <td>1</td>\n      <td>0.000000</td>\n      <td>3</td>\n      <td>41</td>\n      <td>212.000000</td>\n      <td>1</td>\n      <td>10.775336</td>\n      <td>1</td>\n      <td>277</td>\n      <td>277</td>\n      <td>9382</td>\n      <td>1</td>\n      <td>585.0</td>\n      <td>581.0</td>\n      <td>0.0</td>\n      <td>0.0</td>\n      <td>1</td>\n      <td>[15586003]</td>\n    </tr>\n    <tr>\n      <th>2018-01-02 11:01:44</th>\n      <td>814971</td>\n      <td>1</td>\n      <td>2</td>\n      <td>3</td>\n      <td>8</td>\n      <td>0.926948</td>\n      <td>130</td>\n      <td>18</td>\n      <td>4849.875000</td>\n      <td>11</td>\n      <td>254.289873</td>\n      <td>5</td>\n      <td>18</td>\n      <td>18</td>\n      <td>9434</td>\n      <td>0</td>\n      <td>0.0</td>\n      <td>0.0</td>\n      <td>0.0</td>\n      <td>0.0</td>\n      <td>0</td>\n      <td>[15586006, 15586008, 15586007, 15435405, 15435...</td>\n    </tr>\n    <tr>\n      <th>...</th>\n      <td>...</td>\n      <td>...</td>\n      <td>...</td>\n      <td>...</td>\n      <td>...</td>\n      <td>...</td>\n      <td>...</td>\n      <td>...</td>\n      <td>...</td>\n      <td>...</td>\n      <td>...</td>\n      <td>...</td>\n      <td>...</td>\n      <td>...</td>\n      <td>...</td>\n      <td>...</td>\n      <td>...</td>\n      <td>...</td>\n      <td>...</td>\n      <td>...</td>\n      <td>...</td>\n      <td>...</td>\n    </tr>\n    <tr>\n      <th>2018-11-06 14:15:03</th>\n      <td>829479</td>\n      <td>0</td>\n      <td>1</td>\n      <td>1</td>\n      <td>6</td>\n      <td>1.149620</td>\n      <td>219</td>\n      <td>100</td>\n      <td>604.666667</td>\n      <td>2</td>\n      <td>714.998044</td>\n      <td>6</td>\n      <td>2430</td>\n      <td>1298</td>\n      <td>9489</td>\n      <td>1</td>\n      <td>364.0</td>\n      <td>248.0</td>\n      <td>0.0</td>\n      <td>0.0</td>\n      <td>1</td>\n      <td>[15475824, 15475827, 15475828, 15475830, 15475...</td>\n    </tr>\n    <tr>\n      <th>2018-11-06 14:16:49</th>\n      <td>829480</td>\n      <td>0</td>\n      <td>1</td>\n      <td>1</td>\n      <td>2</td>\n      <td>0.200000</td>\n      <td>196</td>\n      <td>2</td>\n      <td>49.500000</td>\n      <td>5</td>\n      <td>237.149051</td>\n      <td>2</td>\n      <td>41</td>\n      <td>41</td>\n      <td>435</td>\n      <td>1</td>\n      <td>620.0</td>\n      <td>619.0</td>\n      <td>0.0</td>\n      <td>0.0</td>\n      <td>1</td>\n      <td>[15658697, 15658696]</td>\n    </tr>\n    <tr>\n      <th>2018-11-06 14:17:33</th>\n      <td>829481</td>\n      <td>0</td>\n      <td>1</td>\n      <td>3</td>\n      <td>5</td>\n      <td>1.105769</td>\n      <td>58</td>\n      <td>36</td>\n      <td>973.800000</td>\n      <td>25</td>\n      <td>272.355479</td>\n      <td>5</td>\n      <td>2380</td>\n      <td>2373</td>\n      <td>9313</td>\n      <td>1</td>\n      <td>5502.0</td>\n      <td>5459.0</td>\n      <td>0.0</td>\n      <td>0.0</td>\n      <td>1</td>\n      <td>[15666344, 15632590, 15548015, 15666343, 15632...</td>\n    </tr>\n    <tr>\n      <th>2018-11-06 14:35:56</th>\n      <td>829482</td>\n      <td>0</td>\n      <td>1</td>\n      <td>2</td>\n      <td>3</td>\n      <td>0.522172</td>\n      <td>26</td>\n      <td>1</td>\n      <td>99.333333</td>\n      <td>6</td>\n      <td>206.805313</td>\n      <td>3</td>\n      <td>1230</td>\n      <td>1210</td>\n      <td>9288</td>\n      <td>1</td>\n      <td>387.0</td>\n      <td>379.0</td>\n      <td>0.0</td>\n      <td>0.0</td>\n      <td>1</td>\n      <td>[15658538, 15695471, 15658424]</td>\n    </tr>\n    <tr>\n      <th>2018-11-06 14:36:37</th>\n      <td>829483</td>\n      <td>0</td>\n      <td>1</td>\n      <td>1</td>\n      <td>2</td>\n      <td>0.693147</td>\n      <td>20</td>\n      <td>4</td>\n      <td>105.000000</td>\n      <td>4</td>\n      <td>129.956354</td>\n      <td>2</td>\n      <td>2450</td>\n      <td>2449</td>\n      <td>9367</td>\n      <td>1</td>\n      <td>676.0</td>\n      <td>274.0</td>\n      <td>0.0</td>\n      <td>0.0</td>\n      <td>1</td>\n      <td>[15696180, 15696181]</td>\n    </tr>\n  </tbody>\n</table>\n<p>14517 rows × 22 columns</p>\n</div>"
     },
     "metadata": {},
     "execution_count": 95
    }
   ]
  },
  {
   "cell_type": "code",
   "execution_count": 91,
   "metadata": {},
   "outputs": [],
   "source": [
    "import tensorflow as tf\n",
    "from keras.models import Sequential\n",
    "from keras.layers import Dense\n",
    "from keras.layers import LSTM\n",
    "\n",
    "from keras.optimizers import Adam\n",
    "from keras.models import load_model\n",
    "from keras.callbacks import ModelCheckpoint"
   ]
  }
 ]
}